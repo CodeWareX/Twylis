{
 "cells": [
  {
   "cell_type": "code",
   "execution_count": 1,
   "metadata": {},
   "outputs": [],
   "source": [
    "import csv\n",
    "import tweepy\n",
    "import pandas as pd\n",
    "import re\n",
    "import string\n",
    "import nltk\n",
    "import time\n",
    "from nltk.corpus import words\n",
    "from textblob import TextBlob\n",
    "import pickle\n",
    "\n",
    "import seaborn as sns\n",
    "import matplotlib.pyplot as plt\n",
    "\n",
    "from nltk.tokenize import word_tokenize\n",
    "from nltk.stem import WordNetLemmatizer\n",
    "\n",
    "from sklearn.model_selection import train_test_split\n",
    "from sklearn.feature_extraction.text import TfidfVectorizer, CountVectorizer,TfidfTransformer\n",
    "from sklearn import preprocessing\n",
    "\n",
    "from sklearn.tree import DecisionTreeClassifier\n",
    "from sklearn.linear_model import LogisticRegression\n",
    "from sklearn.ensemble import RandomForestClassifier\n",
    "from sklearn import svm\n",
    "from sklearn.naive_bayes import MultinomialNB\n",
    "from sklearn.neighbors import KNeighborsClassifier\n",
    "from sklearn.ensemble import StackingClassifier\n",
    "\n",
    "\n",
    "from sklearn.metrics import accuracy_score, classification_report, confusion_matrix"
   ]
  },
  {
   "cell_type": "code",
   "execution_count": 2,
   "metadata": {},
   "outputs": [
    {
     "data": {
      "text/plain": [
       "(143570, 2)"
      ]
     },
     "execution_count": 2,
     "metadata": {},
     "output_type": "execute_result"
    }
   ],
   "source": [
    "# set the path of the data set 1 (dataset which created using real time data)\n",
    "df1 = pd.read_csv(\"Twylist Telecom Dataset.csv\" ,header = None)\n",
    "\n",
    "# 143570 data\n",
    "df1.shape\n"
   ]
  },
  {
   "cell_type": "code",
   "execution_count": 3,
   "metadata": {},
   "outputs": [],
   "source": [
    "# Name the columns\n",
    "df1.columns = ['date', 'tweet']"
   ]
  },
  {
   "cell_type": "code",
   "execution_count": 4,
   "metadata": {},
   "outputs": [],
   "source": [
    "words = set(nltk.corpus.words.words())"
   ]
  },
  {
   "cell_type": "code",
   "execution_count": 5,
   "metadata": {},
   "outputs": [],
   "source": [
    "# words in different grammatical categories convert into one common root. \n",
    "\n",
    "def text_lemmatizer(text):\n",
    "  # This function is used to lemmatize the given sentence\n",
    "    lemmatizer =  WordNetLemmatizer ()\n",
    "    token_words = word_tokenize(text)\n",
    "    stem_sentence = []\n",
    "    for word in token_words:\n",
    "        stem_sentence.append(lemmatizer.lemmatize(word))\n",
    "    return \" \".join(stem_sentence)"
   ]
  },
  {
   "cell_type": "code",
   "execution_count": 6,
   "metadata": {},
   "outputs": [],
   "source": [
    "# Remove special characters from the tweet\n",
    "def clean_text(tweet):\n",
    "    \n",
    "    tweet = tweet.lower()\n",
    "    \n",
    "    # have to remove \"b'RT @endaburke81\" at the begining of the tweet\n",
    "    if(tweet[:4]==\"b'rt\"):\n",
    "        tweet = tweet.split(\":\", 1)[1]\n",
    "\n",
    "    # splitting the tweet\n",
    "    tweet = tweet.split()\n",
    "    \n",
    "    # Joining the tweet\n",
    "    tweet = \" \".join(tweet)\n",
    "    \n",
    "    #Removing digits and numbers\n",
    "    tweet = \"\".join([i for i in tweet if not i.isdigit()])\n",
    "    \n",
    "    # Removing special characters from the tweet\n",
    "    tweet = re.sub(f'[{re.escape(string.punctuation)}]', \"\", tweet)\n",
    "    \n",
    "    # cleaning = nltk.tokenize.wordpunct_tokenize(tweet)\n",
    "    tweet = \" \".join(w for w in nltk.wordpunct_tokenize(tweet) if w.lower() in words or not w.isalpha())\n",
    "    \n",
    "    tweet = text_lemmatizer(tweet)\n",
    "    \n",
    "    return tweet"
   ]
  },
  {
   "cell_type": "code",
   "execution_count": 7,
   "metadata": {},
   "outputs": [],
   "source": [
    "# adding cleaning method\n",
    "df1[\"tweet_clean\"] = df1[\"tweet\"].apply(clean_text)"
   ]
  },
  {
   "cell_type": "code",
   "execution_count": 8,
   "metadata": {},
   "outputs": [
    {
     "data": {
      "text/html": [
       "<div>\n",
       "<style scoped>\n",
       "    .dataframe tbody tr th:only-of-type {\n",
       "        vertical-align: middle;\n",
       "    }\n",
       "\n",
       "    .dataframe tbody tr th {\n",
       "        vertical-align: top;\n",
       "    }\n",
       "\n",
       "    .dataframe thead th {\n",
       "        text-align: right;\n",
       "    }\n",
       "</style>\n",
       "<table border=\"1\" class=\"dataframe\">\n",
       "  <thead>\n",
       "    <tr style=\"text-align: right;\">\n",
       "      <th></th>\n",
       "      <th>date</th>\n",
       "      <th>tweet</th>\n",
       "      <th>tweet_clean</th>\n",
       "      <th>sentiment</th>\n",
       "      <th>polarity</th>\n",
       "    </tr>\n",
       "  </thead>\n",
       "  <tbody>\n",
       "    <tr>\n",
       "      <th>0</th>\n",
       "      <td>2021-03-25 04:55:11</td>\n",
       "      <td>b'RT @Zahrah03959662: Parvez Abbasi- Telecom v...</td>\n",
       "      <td>abbasi veteran project director national incub...</td>\n",
       "      <td>negative</td>\n",
       "      <td>-0.0333333</td>\n",
       "    </tr>\n",
       "    <tr>\n",
       "      <th>1</th>\n",
       "      <td>2021-03-25 04:54:58</td>\n",
       "      <td>b'RT @Zahrah03959662: Zouhair Khaliq IT &amp;amp; ...</td>\n",
       "      <td>it cofounder partner at team up group is a bus...</td>\n",
       "      <td>neutral</td>\n",
       "      <td>0</td>\n",
       "    </tr>\n",
       "    <tr>\n",
       "      <th>2</th>\n",
       "      <td>2021-03-25 04:54:31</td>\n",
       "      <td>b'RT @Shah28Adil: Zouhair is a business execut...</td>\n",
       "      <td>is a business executive with global experience...</td>\n",
       "      <td>neutral</td>\n",
       "      <td>0</td>\n",
       "    </tr>\n",
       "    <tr>\n",
       "      <th>3</th>\n",
       "      <td>2021-03-25 04:53:23</td>\n",
       "      <td>b'Zouhair Khaliq IT &amp;amp; Telecom, Co-Founder ...</td>\n",
       "      <td>it cofounder partner at team up group is a bus...</td>\n",
       "      <td>neutral</td>\n",
       "      <td>0</td>\n",
       "    </tr>\n",
       "    <tr>\n",
       "      <th>4</th>\n",
       "      <td>2021-03-25 04:53:12</td>\n",
       "      <td>b'Welcome! You are invited to join a webinar: ...</td>\n",
       "      <td>you are to join a editorial learning by doing g</td>\n",
       "      <td>neutral</td>\n",
       "      <td>0</td>\n",
       "    </tr>\n",
       "  </tbody>\n",
       "</table>\n",
       "</div>"
      ],
      "text/plain": [
       "                  date                                              tweet  \\\n",
       "0  2021-03-25 04:55:11  b'RT @Zahrah03959662: Parvez Abbasi- Telecom v...   \n",
       "1  2021-03-25 04:54:58  b'RT @Zahrah03959662: Zouhair Khaliq IT &amp; ...   \n",
       "2  2021-03-25 04:54:31  b'RT @Shah28Adil: Zouhair is a business execut...   \n",
       "3  2021-03-25 04:53:23  b'Zouhair Khaliq IT &amp; Telecom, Co-Founder ...   \n",
       "4  2021-03-25 04:53:12  b'Welcome! You are invited to join a webinar: ...   \n",
       "\n",
       "                                         tweet_clean sentiment   polarity  \n",
       "0  abbasi veteran project director national incub...  negative -0.0333333  \n",
       "1  it cofounder partner at team up group is a bus...   neutral          0  \n",
       "2  is a business executive with global experience...   neutral          0  \n",
       "3  it cofounder partner at team up group is a bus...   neutral          0  \n",
       "4    you are to join a editorial learning by doing g   neutral          0  "
      ]
     },
     "execution_count": 8,
     "metadata": {},
     "output_type": "execute_result"
    }
   ],
   "source": [
    "# sentiment analysis using polarity\n",
    "\n",
    "df1['sentiment'] = ' '\n",
    "df1['polarity'] = None\n",
    "for i,tweets in enumerate(df1.tweet_clean) :\n",
    "    blob = TextBlob(tweets)\n",
    "    df1['polarity'][i] = blob.sentiment.polarity\n",
    "    if blob.sentiment.polarity > 0 :\n",
    "        df1['sentiment'][i] = 'positive'\n",
    "    elif blob.sentiment.polarity < 0 :\n",
    "        df1['sentiment'][i] = 'negative'\n",
    "    else :\n",
    "        df1['sentiment'][i] = 'neutral'\n",
    "df1.head()"
   ]
  },
  {
   "cell_type": "code",
   "execution_count": 9,
   "metadata": {},
   "outputs": [
    {
     "data": {
      "text/plain": [
       "(67359, 5)"
      ]
     },
     "execution_count": 9,
     "metadata": {},
     "output_type": "execute_result"
    }
   ],
   "source": [
    "# remove duplicate data from dataset 1\n",
    "df1=df1.drop_duplicates(subset='tweet', keep=\"last\")\n",
    "df1.shape"
   ]
  },
  {
   "cell_type": "code",
   "execution_count": 10,
   "metadata": {},
   "outputs": [
    {
     "data": {
      "text/plain": [
       "(20867, 5)"
      ]
     },
     "execution_count": 10,
     "metadata": {},
     "output_type": "execute_result"
    }
   ],
   "source": [
    "# positive data count\n",
    "df1.loc[df1['sentiment'] == \"positive\"].shape"
   ]
  },
  {
   "cell_type": "code",
   "execution_count": 11,
   "metadata": {},
   "outputs": [
    {
     "data": {
      "text/plain": [
       "(12002, 5)"
      ]
     },
     "execution_count": 11,
     "metadata": {},
     "output_type": "execute_result"
    }
   ],
   "source": [
    "# negative data count\n",
    "df1.loc[df1['sentiment'] == \"negative\"].shape"
   ]
  },
  {
   "cell_type": "code",
   "execution_count": 12,
   "metadata": {},
   "outputs": [
    {
     "data": {
      "text/plain": [
       "(34490, 5)"
      ]
     },
     "execution_count": 12,
     "metadata": {},
     "output_type": "execute_result"
    }
   ],
   "source": [
    "# neutral data count\n",
    "df1.loc[df1['sentiment'] == \"neutral\"].shape"
   ]
  },
  {
   "cell_type": "code",
   "execution_count": 13,
   "metadata": {},
   "outputs": [
    {
     "data": {
      "text/html": [
       "<div>\n",
       "<style scoped>\n",
       "    .dataframe tbody tr th:only-of-type {\n",
       "        vertical-align: middle;\n",
       "    }\n",
       "\n",
       "    .dataframe tbody tr th {\n",
       "        vertical-align: top;\n",
       "    }\n",
       "\n",
       "    .dataframe thead th {\n",
       "        text-align: right;\n",
       "    }\n",
       "</style>\n",
       "<table border=\"1\" class=\"dataframe\">\n",
       "  <thead>\n",
       "    <tr style=\"text-align: right;\">\n",
       "      <th></th>\n",
       "      <th>date</th>\n",
       "      <th>tweet</th>\n",
       "      <th>tweet_clean</th>\n",
       "      <th>sentiment</th>\n",
       "      <th>polarity</th>\n",
       "    </tr>\n",
       "  </thead>\n",
       "  <tbody>\n",
       "    <tr>\n",
       "      <th>1</th>\n",
       "      <td>2021-03-25 04:54:58</td>\n",
       "      <td>b'RT @Zahrah03959662: Zouhair Khaliq IT &amp;amp; ...</td>\n",
       "      <td>it cofounder partner at team up group is a bus...</td>\n",
       "      <td>neutral</td>\n",
       "      <td>0</td>\n",
       "    </tr>\n",
       "    <tr>\n",
       "      <th>3</th>\n",
       "      <td>2021-03-25 04:53:23</td>\n",
       "      <td>b'Zouhair Khaliq IT &amp;amp; Telecom, Co-Founder ...</td>\n",
       "      <td>it cofounder partner at team up group is a bus...</td>\n",
       "      <td>neutral</td>\n",
       "      <td>0</td>\n",
       "    </tr>\n",
       "    <tr>\n",
       "      <th>4</th>\n",
       "      <td>2021-03-25 04:53:12</td>\n",
       "      <td>b'Welcome! You are invited to join a webinar: ...</td>\n",
       "      <td>you are to join a editorial learning by doing g</td>\n",
       "      <td>neutral</td>\n",
       "      <td>0</td>\n",
       "    </tr>\n",
       "    <tr>\n",
       "      <th>6</th>\n",
       "      <td>2021-03-25 04:52:59</td>\n",
       "      <td>b'Engage with your customers in real-time with...</td>\n",
       "      <td>with your in with our and measure your perform...</td>\n",
       "      <td>neutral</td>\n",
       "      <td>0</td>\n",
       "    </tr>\n",
       "    <tr>\n",
       "      <th>8</th>\n",
       "      <td>2021-03-25 04:52:18</td>\n",
       "      <td>b'@JioCare 1.44 mbps..??? Your 4g speed \\xf0\\x...</td>\n",
       "      <td>your g speed hopefully you care about the also</td>\n",
       "      <td>neutral</td>\n",
       "      <td>0</td>\n",
       "    </tr>\n",
       "    <tr>\n",
       "      <th>...</th>\n",
       "      <td>...</td>\n",
       "      <td>...</td>\n",
       "      <td>...</td>\n",
       "      <td>...</td>\n",
       "      <td>...</td>\n",
       "    </tr>\n",
       "    <tr>\n",
       "      <th>143565</th>\n",
       "      <td>2021-03-21 03:53:57</td>\n",
       "      <td>b'@enptg GOD THE FUCKING WIFI#@%*#)*%#)'</td>\n",
       "      <td>god the</td>\n",
       "      <td>neutral</td>\n",
       "      <td>0</td>\n",
       "    </tr>\n",
       "    <tr>\n",
       "      <th>143566</th>\n",
       "      <td>2021-03-21 03:53:55</td>\n",
       "      <td>b'We don\\xe2\\x80\\x99t accept internet shutdown...</td>\n",
       "      <td>accept shutdown we dun accept news suppression...</td>\n",
       "      <td>positive</td>\n",
       "      <td>0.5</td>\n",
       "    </tr>\n",
       "    <tr>\n",
       "      <th>143567</th>\n",
       "      <td>2021-03-21 03:53:55</td>\n",
       "      <td>b'nobody\\xe2\\x80\\x99s wifi is working in the h...</td>\n",
       "      <td>is working in the house except for on my phone...</td>\n",
       "      <td>neutral</td>\n",
       "      <td>0</td>\n",
       "    </tr>\n",
       "    <tr>\n",
       "      <th>143568</th>\n",
       "      <td>2021-03-21 03:53:54</td>\n",
       "      <td>b'RT @KhaingEiKhaing: It\\xe2\\x80\\x99s been 7da...</td>\n",
       "      <td>been day since the military junta cut off mobi...</td>\n",
       "      <td>positive</td>\n",
       "      <td>0.133333</td>\n",
       "    </tr>\n",
       "    <tr>\n",
       "      <th>143569</th>\n",
       "      <td>2021-03-21 03:53:53</td>\n",
       "      <td>b'RT @iotcybersec24: \\xf0\\x9f\\x91\\x89 $154.99 ...</td>\n",
       "      <td>smart router tri band router server</td>\n",
       "      <td>positive</td>\n",
       "      <td>0.214286</td>\n",
       "    </tr>\n",
       "  </tbody>\n",
       "</table>\n",
       "<p>67359 rows × 5 columns</p>\n",
       "</div>"
      ],
      "text/plain": [
       "                       date  \\\n",
       "1       2021-03-25 04:54:58   \n",
       "3       2021-03-25 04:53:23   \n",
       "4       2021-03-25 04:53:12   \n",
       "6       2021-03-25 04:52:59   \n",
       "8       2021-03-25 04:52:18   \n",
       "...                     ...   \n",
       "143565  2021-03-21 03:53:57   \n",
       "143566  2021-03-21 03:53:55   \n",
       "143567  2021-03-21 03:53:55   \n",
       "143568  2021-03-21 03:53:54   \n",
       "143569  2021-03-21 03:53:53   \n",
       "\n",
       "                                                    tweet  \\\n",
       "1       b'RT @Zahrah03959662: Zouhair Khaliq IT &amp; ...   \n",
       "3       b'Zouhair Khaliq IT &amp; Telecom, Co-Founder ...   \n",
       "4       b'Welcome! You are invited to join a webinar: ...   \n",
       "6       b'Engage with your customers in real-time with...   \n",
       "8       b'@JioCare 1.44 mbps..??? Your 4g speed \\xf0\\x...   \n",
       "...                                                   ...   \n",
       "143565           b'@enptg GOD THE FUCKING WIFI#@%*#)*%#)'   \n",
       "143566  b'We don\\xe2\\x80\\x99t accept internet shutdown...   \n",
       "143567  b'nobody\\xe2\\x80\\x99s wifi is working in the h...   \n",
       "143568  b'RT @KhaingEiKhaing: It\\xe2\\x80\\x99s been 7da...   \n",
       "143569  b'RT @iotcybersec24: \\xf0\\x9f\\x91\\x89 $154.99 ...   \n",
       "\n",
       "                                              tweet_clean sentiment  polarity  \n",
       "1       it cofounder partner at team up group is a bus...   neutral         0  \n",
       "3       it cofounder partner at team up group is a bus...   neutral         0  \n",
       "4         you are to join a editorial learning by doing g   neutral         0  \n",
       "6       with your in with our and measure your perform...   neutral         0  \n",
       "8          your g speed hopefully you care about the also   neutral         0  \n",
       "...                                                   ...       ...       ...  \n",
       "143565                                            god the   neutral         0  \n",
       "143566  accept shutdown we dun accept news suppression...  positive       0.5  \n",
       "143567  is working in the house except for on my phone...   neutral         0  \n",
       "143568  been day since the military junta cut off mobi...  positive  0.133333  \n",
       "143569                smart router tri band router server  positive  0.214286  \n",
       "\n",
       "[67359 rows x 5 columns]"
      ]
     },
     "execution_count": 13,
     "metadata": {},
     "output_type": "execute_result"
    }
   ],
   "source": [
    "# Remove the undefined tweets\n",
    "df1 = df1.loc[df1['sentiment'] != \"\"]\n",
    "df1"
   ]
  },
  {
   "cell_type": "code",
   "execution_count": 14,
   "metadata": {},
   "outputs": [],
   "source": [
    "# Remove unwanted columns to equalise two data sets\n",
    "df1.drop(['date','tweet','polarity'], inplace=True, axis=1)"
   ]
  },
  {
   "cell_type": "code",
   "execution_count": 15,
   "metadata": {},
   "outputs": [
    {
     "data": {
      "text/html": [
       "<div>\n",
       "<style scoped>\n",
       "    .dataframe tbody tr th:only-of-type {\n",
       "        vertical-align: middle;\n",
       "    }\n",
       "\n",
       "    .dataframe tbody tr th {\n",
       "        vertical-align: top;\n",
       "    }\n",
       "\n",
       "    .dataframe thead th {\n",
       "        text-align: right;\n",
       "    }\n",
       "</style>\n",
       "<table border=\"1\" class=\"dataframe\">\n",
       "  <thead>\n",
       "    <tr style=\"text-align: right;\">\n",
       "      <th></th>\n",
       "      <th>tweet_clean</th>\n",
       "      <th>sentiment</th>\n",
       "    </tr>\n",
       "  </thead>\n",
       "  <tbody>\n",
       "    <tr>\n",
       "      <th>1</th>\n",
       "      <td>it cofounder partner at team up group is a bus...</td>\n",
       "      <td>neutral</td>\n",
       "    </tr>\n",
       "    <tr>\n",
       "      <th>3</th>\n",
       "      <td>it cofounder partner at team up group is a bus...</td>\n",
       "      <td>neutral</td>\n",
       "    </tr>\n",
       "    <tr>\n",
       "      <th>4</th>\n",
       "      <td>you are to join a editorial learning by doing g</td>\n",
       "      <td>neutral</td>\n",
       "    </tr>\n",
       "    <tr>\n",
       "      <th>6</th>\n",
       "      <td>with your in with our and measure your perform...</td>\n",
       "      <td>neutral</td>\n",
       "    </tr>\n",
       "    <tr>\n",
       "      <th>8</th>\n",
       "      <td>your g speed hopefully you care about the also</td>\n",
       "      <td>neutral</td>\n",
       "    </tr>\n",
       "    <tr>\n",
       "      <th>...</th>\n",
       "      <td>...</td>\n",
       "      <td>...</td>\n",
       "    </tr>\n",
       "    <tr>\n",
       "      <th>143565</th>\n",
       "      <td>god the</td>\n",
       "      <td>neutral</td>\n",
       "    </tr>\n",
       "    <tr>\n",
       "      <th>143566</th>\n",
       "      <td>accept shutdown we dun accept news suppression...</td>\n",
       "      <td>positive</td>\n",
       "    </tr>\n",
       "    <tr>\n",
       "      <th>143567</th>\n",
       "      <td>is working in the house except for on my phone...</td>\n",
       "      <td>neutral</td>\n",
       "    </tr>\n",
       "    <tr>\n",
       "      <th>143568</th>\n",
       "      <td>been day since the military junta cut off mobi...</td>\n",
       "      <td>positive</td>\n",
       "    </tr>\n",
       "    <tr>\n",
       "      <th>143569</th>\n",
       "      <td>smart router tri band router server</td>\n",
       "      <td>positive</td>\n",
       "    </tr>\n",
       "  </tbody>\n",
       "</table>\n",
       "<p>67359 rows × 2 columns</p>\n",
       "</div>"
      ],
      "text/plain": [
       "                                              tweet_clean sentiment\n",
       "1       it cofounder partner at team up group is a bus...   neutral\n",
       "3       it cofounder partner at team up group is a bus...   neutral\n",
       "4         you are to join a editorial learning by doing g   neutral\n",
       "6       with your in with our and measure your perform...   neutral\n",
       "8          your g speed hopefully you care about the also   neutral\n",
       "...                                                   ...       ...\n",
       "143565                                            god the   neutral\n",
       "143566  accept shutdown we dun accept news suppression...  positive\n",
       "143567  is working in the house except for on my phone...   neutral\n",
       "143568  been day since the military junta cut off mobi...  positive\n",
       "143569                smart router tri band router server  positive\n",
       "\n",
       "[67359 rows x 2 columns]"
      ]
     },
     "execution_count": 15,
     "metadata": {},
     "output_type": "execute_result"
    }
   ],
   "source": [
    "df1"
   ]
  },
  {
   "cell_type": "code",
   "execution_count": 16,
   "metadata": {},
   "outputs": [],
   "source": [
    "# set the path of the data set 2 \n",
    "df2 = pd.read_csv(\"Telecom Dataset.csv\" )\n",
    "# Add the cleaning method\n",
    "df2[\"tweet_clean\"] = df2[\"text\"].apply(clean_text)"
   ]
  },
  {
   "cell_type": "code",
   "execution_count": 17,
   "metadata": {},
   "outputs": [
    {
     "name": "stderr",
     "output_type": "stream",
     "text": [
      "<ipython-input-17-75bdb9e797f2>:13: SettingWithCopyWarning: \n",
      "A value is trying to be set on a copy of a slice from a DataFrame\n",
      "\n",
      "See the caveats in the documentation: https://pandas.pydata.org/pandas-docs/stable/user_guide/indexing.html#returning-a-view-versus-a-copy\n",
      "  df2['sentiment'][i] = 'negative'\n",
      "<ipython-input-17-75bdb9e797f2>:9: SettingWithCopyWarning: \n",
      "A value is trying to be set on a copy of a slice from a DataFrame\n",
      "\n",
      "See the caveats in the documentation: https://pandas.pydata.org/pandas-docs/stable/user_guide/indexing.html#returning-a-view-versus-a-copy\n",
      "  df2['sentiment'][i] = 'positive'\n",
      "<ipython-input-17-75bdb9e797f2>:11: SettingWithCopyWarning: \n",
      "A value is trying to be set on a copy of a slice from a DataFrame\n",
      "\n",
      "See the caveats in the documentation: https://pandas.pydata.org/pandas-docs/stable/user_guide/indexing.html#returning-a-view-versus-a-copy\n",
      "  df2['sentiment'][i] = 'neutral'\n"
     ]
    },
    {
     "data": {
      "text/html": [
       "<div>\n",
       "<style scoped>\n",
       "    .dataframe tbody tr th:only-of-type {\n",
       "        vertical-align: middle;\n",
       "    }\n",
       "\n",
       "    .dataframe tbody tr th {\n",
       "        vertical-align: top;\n",
       "    }\n",
       "\n",
       "    .dataframe thead th {\n",
       "        text-align: right;\n",
       "    }\n",
       "</style>\n",
       "<table border=\"1\" class=\"dataframe\">\n",
       "  <thead>\n",
       "    <tr style=\"text-align: right;\">\n",
       "      <th></th>\n",
       "      <th>Unnamed: 0</th>\n",
       "      <th>Category</th>\n",
       "      <th>Label</th>\n",
       "      <th>text</th>\n",
       "      <th>tweet_clean</th>\n",
       "      <th>sentiment</th>\n",
       "    </tr>\n",
       "  </thead>\n",
       "  <tbody>\n",
       "    <tr>\n",
       "      <th>0</th>\n",
       "      <td>0</td>\n",
       "      <td>Poor service</td>\n",
       "      <td>4</td>\n",
       "      <td>@VZWSupport Give me a working phone without ha...</td>\n",
       "      <td>give me a working phone without me jump throug...</td>\n",
       "      <td>negative</td>\n",
       "    </tr>\n",
       "    <tr>\n",
       "      <th>1</th>\n",
       "      <td>1</td>\n",
       "      <td>Poor service</td>\n",
       "      <td>4</td>\n",
       "      <td>@verizon, my daughter and I both have #Verizon...</td>\n",
       "      <td>my daughter and i both have and we keep our fa...</td>\n",
       "      <td>negative</td>\n",
       "    </tr>\n",
       "    <tr>\n",
       "      <th>2</th>\n",
       "      <td>2</td>\n",
       "      <td>Poor service</td>\n",
       "      <td>4</td>\n",
       "      <td>Verizon  customer service is the worst. I drea...</td>\n",
       "      <td>customer service is the worst i dread to ever ...</td>\n",
       "      <td>negative</td>\n",
       "    </tr>\n",
       "    <tr>\n",
       "      <th>3</th>\n",
       "      <td>3</td>\n",
       "      <td>Happy Customer</td>\n",
       "      <td>2</td>\n",
       "      <td>I love having Verizon. I get service just abou...</td>\n",
       "      <td>i love i get service just about anywhere</td>\n",
       "      <td>positive</td>\n",
       "    </tr>\n",
       "    <tr>\n",
       "      <th>4</th>\n",
       "      <td>4</td>\n",
       "      <td>Happy Customer</td>\n",
       "      <td>2</td>\n",
       "      <td>Great service from @VZWSupport and @SamsungSup...</td>\n",
       "      <td>great service from and tonight really quality ...</td>\n",
       "      <td>positive</td>\n",
       "    </tr>\n",
       "  </tbody>\n",
       "</table>\n",
       "</div>"
      ],
      "text/plain": [
       "   Unnamed: 0        Category  Label  \\\n",
       "0           0    Poor service      4   \n",
       "1           1    Poor service      4   \n",
       "2           2    Poor service      4   \n",
       "3           3  Happy Customer      2   \n",
       "4           4  Happy Customer      2   \n",
       "\n",
       "                                                text  \\\n",
       "0  @VZWSupport Give me a working phone without ha...   \n",
       "1  @verizon, my daughter and I both have #Verizon...   \n",
       "2  Verizon  customer service is the worst. I drea...   \n",
       "3  I love having Verizon. I get service just abou...   \n",
       "4  Great service from @VZWSupport and @SamsungSup...   \n",
       "\n",
       "                                         tweet_clean sentiment  \n",
       "0  give me a working phone without me jump throug...  negative  \n",
       "1  my daughter and i both have and we keep our fa...  negative  \n",
       "2  customer service is the worst i dread to ever ...  negative  \n",
       "3           i love i get service just about anywhere  positive  \n",
       "4  great service from and tonight really quality ...  positive  "
      ]
     },
     "execution_count": 17,
     "metadata": {},
     "output_type": "execute_result"
    }
   ],
   "source": [
    "#This data set categorize for 4 types\n",
    "# Happy Customer --> Positive\n",
    "# Potential New Customer --> Neutral\n",
    "# Lost Customer, Poor Service --> Negative\n",
    "\n",
    "df2['sentiment'] = ' '\n",
    "for i,cat in enumerate(df2.Category) :\n",
    "    if cat=='Happy Customer' :\n",
    "        df2['sentiment'][i] = 'positive'\n",
    "    elif cat=='Potential New Customer' :\n",
    "        df2['sentiment'][i] = 'neutral'\n",
    "    else :\n",
    "        df2['sentiment'][i] = 'negative'\n",
    "df2.head()"
   ]
  },
  {
   "cell_type": "code",
   "execution_count": 18,
   "metadata": {},
   "outputs": [
    {
     "data": {
      "text/plain": [
       "(67359, 2)"
      ]
     },
     "execution_count": 18,
     "metadata": {},
     "output_type": "execute_result"
    }
   ],
   "source": [
    "# Remove the duplicate data\n",
    "df2=df2.drop_duplicates(subset=None, keep='first', inplace=False)\n",
    "df1.shape"
   ]
  },
  {
   "cell_type": "code",
   "execution_count": 19,
   "metadata": {},
   "outputs": [],
   "source": [
    "# Remove unwanted columns to equalise two data sets\n",
    "df2.drop(['Unnamed: 0','Category','text','Label'], inplace=True, axis=1)"
   ]
  },
  {
   "cell_type": "code",
   "execution_count": 20,
   "metadata": {},
   "outputs": [
    {
     "data": {
      "text/html": [
       "<div>\n",
       "<style scoped>\n",
       "    .dataframe tbody tr th:only-of-type {\n",
       "        vertical-align: middle;\n",
       "    }\n",
       "\n",
       "    .dataframe tbody tr th {\n",
       "        vertical-align: top;\n",
       "    }\n",
       "\n",
       "    .dataframe thead th {\n",
       "        text-align: right;\n",
       "    }\n",
       "</style>\n",
       "<table border=\"1\" class=\"dataframe\">\n",
       "  <thead>\n",
       "    <tr style=\"text-align: right;\">\n",
       "      <th></th>\n",
       "      <th>tweet_clean</th>\n",
       "      <th>sentiment</th>\n",
       "    </tr>\n",
       "  </thead>\n",
       "  <tbody>\n",
       "    <tr>\n",
       "      <th>1</th>\n",
       "      <td>it cofounder partner at team up group is a bus...</td>\n",
       "      <td>neutral</td>\n",
       "    </tr>\n",
       "    <tr>\n",
       "      <th>3</th>\n",
       "      <td>it cofounder partner at team up group is a bus...</td>\n",
       "      <td>neutral</td>\n",
       "    </tr>\n",
       "    <tr>\n",
       "      <th>4</th>\n",
       "      <td>you are to join a editorial learning by doing g</td>\n",
       "      <td>neutral</td>\n",
       "    </tr>\n",
       "    <tr>\n",
       "      <th>6</th>\n",
       "      <td>with your in with our and measure your perform...</td>\n",
       "      <td>neutral</td>\n",
       "    </tr>\n",
       "    <tr>\n",
       "      <th>8</th>\n",
       "      <td>your g speed hopefully you care about the also</td>\n",
       "      <td>neutral</td>\n",
       "    </tr>\n",
       "    <tr>\n",
       "      <th>...</th>\n",
       "      <td>...</td>\n",
       "      <td>...</td>\n",
       "    </tr>\n",
       "    <tr>\n",
       "      <th>864</th>\n",
       "      <td>this is the second time the whole “ cutting se...</td>\n",
       "      <td>negative</td>\n",
       "    </tr>\n",
       "    <tr>\n",
       "      <th>865</th>\n",
       "      <td>a if my part of people on my bill enough a fee...</td>\n",
       "      <td>negative</td>\n",
       "    </tr>\n",
       "    <tr>\n",
       "      <th>866</th>\n",
       "      <td>i can call day in a row and get completely dif...</td>\n",
       "      <td>negative</td>\n",
       "    </tr>\n",
       "    <tr>\n",
       "      <th>867</th>\n",
       "      <td>you dont have the best network doe right</td>\n",
       "      <td>negative</td>\n",
       "    </tr>\n",
       "    <tr>\n",
       "      <th>868</th>\n",
       "      <td>you obviously get what you pay for stop being ...</td>\n",
       "      <td>positive</td>\n",
       "    </tr>\n",
       "  </tbody>\n",
       "</table>\n",
       "<p>68228 rows × 2 columns</p>\n",
       "</div>"
      ],
      "text/plain": [
       "                                           tweet_clean sentiment\n",
       "1    it cofounder partner at team up group is a bus...   neutral\n",
       "3    it cofounder partner at team up group is a bus...   neutral\n",
       "4      you are to join a editorial learning by doing g   neutral\n",
       "6    with your in with our and measure your perform...   neutral\n",
       "8       your g speed hopefully you care about the also   neutral\n",
       "..                                                 ...       ...\n",
       "864  this is the second time the whole “ cutting se...  negative\n",
       "865  a if my part of people on my bill enough a fee...  negative\n",
       "866  i can call day in a row and get completely dif...  negative\n",
       "867           you dont have the best network doe right  negative\n",
       "868  you obviously get what you pay for stop being ...  positive\n",
       "\n",
       "[68228 rows x 2 columns]"
      ]
     },
     "execution_count": 20,
     "metadata": {},
     "output_type": "execute_result"
    }
   ],
   "source": [
    "# Merge two data sets\n",
    "df = pd.concat([df1,df2])\n",
    "df"
   ]
  },
  {
   "cell_type": "code",
   "execution_count": 21,
   "metadata": {},
   "outputs": [],
   "source": [
    "#shuffling\n",
    "df = df.sample(frac = 1)"
   ]
  },
  {
   "cell_type": "code",
   "execution_count": 22,
   "metadata": {},
   "outputs": [],
   "source": [
    "#Split the data\n",
    "\n",
    "x_train, x_test, y_train, y_test = train_test_split(df[\"tweet_clean\"], df[\"sentiment\"],test_size=0.2, random_state=123)"
   ]
  },
  {
   "cell_type": "code",
   "execution_count": 23,
   "metadata": {},
   "outputs": [],
   "source": [
    "# Tokenize Words in each tweets (Encoding)\n",
    "# TfidfVectorizer converts text to word frequency vectors\n",
    "\n",
    "tfidf_vectorizer = TfidfVectorizer(tokenizer=word_tokenize, token_pattern=None)\n",
    "tfidf_vectorizer.fit(df[\"tweet_clean\"])\n",
    "x_train_vector = tfidf_vectorizer.transform(x_train)\n",
    "x_test_vector = tfidf_vectorizer.transform(x_test)"
   ]
  },
  {
   "cell_type": "code",
   "execution_count": 24,
   "metadata": {},
   "outputs": [],
   "source": [
    "# Calculate accuracy, Training Time\n",
    "def evaluate_metrics(y_test, y_hat, model_type,time):\n",
    "    \n",
    "    accuracy = accuracy_score(y_hat, y_test)\n",
    "    print(\"Model Type : \", model_type)\n",
    "    print(\"\\nAccuracy : \", format(accuracy, '.2f'))\n",
    "    print(\"\\nTraining Time : \", format(time, '.2f'), \"s\" )\n",
    "    print(\"\\n\", classification_report(y_hat, y_test))\n",
    "\n",
    "    # Generate Classification Report using Heat map\n",
    "    plt.figure(figsize=(10,6))\n",
    "    sns.heatmap(confusion_matrix(y_hat, y_test), annot=True, fmt=\".2f\")\n",
    "    plt.show()\n",
    "    return accuracy"
   ]
  },
  {
   "cell_type": "code",
   "execution_count": 25,
   "metadata": {},
   "outputs": [
    {
     "name": "stderr",
     "output_type": "stream",
     "text": [
      "/Users/sachinim/opt/anaconda3/lib/python3.8/site-packages/sklearn/linear_model/_logistic.py:762: ConvergenceWarning: lbfgs failed to converge (status=1):\n",
      "STOP: TOTAL NO. of ITERATIONS REACHED LIMIT.\n",
      "\n",
      "Increase the number of iterations (max_iter) or scale the data as shown in:\n",
      "    https://scikit-learn.org/stable/modules/preprocessing.html\n",
      "Please also refer to the documentation for alternative solver options:\n",
      "    https://scikit-learn.org/stable/modules/linear_model.html#logistic-regression\n",
      "  n_iter_i = _check_optimize_result(\n"
     ]
    }
   ],
   "source": [
    "# Maximum Entropy (Logistic Regression Algorithm)\n",
    "\n",
    "logisticR_model = LogisticRegression()\n",
    "logisticR_start = time.time()\n",
    "logisticR_model.fit(x_train_vector, y_train)\n",
    "logisticR_stop = time.time()\n",
    "logisticR_time = (logisticR_stop - logisticR_start)\n",
    "logisticR_preds = logisticR_model.predict(x_test_vector)"
   ]
  },
  {
   "cell_type": "code",
   "execution_count": 26,
   "metadata": {},
   "outputs": [
    {
     "name": "stdout",
     "output_type": "stream",
     "text": [
      "Model Type :  Logistic Regression Classifier\n",
      "\n",
      "Accuracy :  0.93\n",
      "\n",
      "Training Time :  2.38 s\n",
      "\n",
      "               precision    recall  f1-score   support\n",
      "\n",
      "    negative       0.94      0.81      0.87      2545\n",
      "     neutral       0.91      0.99      0.95      6923\n",
      "    positive       0.95      0.89      0.92      4178\n",
      "\n",
      "    accuracy                           0.93     13646\n",
      "   macro avg       0.94      0.90      0.92     13646\n",
      "weighted avg       0.93      0.93      0.93     13646\n",
      "\n"
     ]
    },
    {
     "data": {
      "image/png": "[encoded data removed]",
      "text/plain": [
       "<Figure size 720x432 with 2 Axes>"
      ]
     },
     "metadata": {
      "needs_background": "light"
     },
     "output_type": "display_data"
    }
   ],
   "source": [
    "logisticR_accuracy = evaluate_metrics(logisticR_preds, y_test, \"Logistic Regression Classifier\", logisticR_time)"
   ]
  },
  {
   "cell_type": "code",
   "execution_count": 27,
   "metadata": {},
   "outputs": [],
   "source": [
    "# Random Forest Algorithm\n",
    "\n",
    "RandomForest_model = RandomForestClassifier()\n",
    "RandomForest_start = time.time()\n",
    "RandomForest_model.fit(x_train_vector, y_train)\n",
    "RandomForest_stop = time.time()\n",
    "RandomForest_time = (RandomForest_stop - RandomForest_start)\n",
    "RandomForest_preds = RandomForest_model.predict(x_test_vector)"
   ]
  },
  {
   "cell_type": "code",
   "execution_count": 28,
   "metadata": {},
   "outputs": [
    {
     "name": "stdout",
     "output_type": "stream",
     "text": [
      "Model Type :  Random Forest Classifier\n",
      "\n",
      "Accuracy :  0.90\n",
      "\n",
      "Training Time :  102.66 s\n",
      "\n",
      "               precision    recall  f1-score   support\n",
      "\n",
      "    negative       0.94      0.74      0.83      2545\n",
      "     neutral       0.88      0.99      0.93      6923\n",
      "    positive       0.94      0.85      0.89      4178\n",
      "\n",
      "    accuracy                           0.90     13646\n",
      "   macro avg       0.92      0.86      0.88     13646\n",
      "weighted avg       0.91      0.90      0.90     13646\n",
      "\n"
     ]
    },
    {
     "data": {
      "image/png": "[encoded data removed]",
      "text/plain": [
       "<Figure size 720x432 with 2 Axes>"
      ]
     },
     "metadata": {
      "needs_background": "light"
     },
     "output_type": "display_data"
    }
   ],
   "source": [
    "RandomForest_accuracy = evaluate_metrics(RandomForest_preds, y_test, \"Random Forest Classifier\", RandomForest_time)"
   ]
  },
  {
   "cell_type": "code",
   "execution_count": 29,
   "metadata": {},
   "outputs": [],
   "source": [
    "# Decision Tree Algorithm\n",
    "\n",
    "DecisionTree_model = DecisionTreeClassifier(max_depth=20,random_state=0)\n",
    "DecisionTree_start = time.time()\n",
    "DecisionTree_model.fit(x_train_vector, y_train)\n",
    "DecisionTree_stop = time.time()\n",
    "DecisionTree_time = (DecisionTree_stop - DecisionTree_start)\n",
    "DecisionTree_pred = DecisionTree_model.predict(x_test_vector)"
   ]
  },
  {
   "cell_type": "code",
   "execution_count": 30,
   "metadata": {},
   "outputs": [
    {
     "name": "stdout",
     "output_type": "stream",
     "text": [
      "Model Type :  DecisionTree Classifier\n",
      "\n",
      "Accuracy :  0.74\n",
      "\n",
      "Training Time :  1.72 s\n",
      "\n",
      "               precision    recall  f1-score   support\n",
      "\n",
      "    negative       0.92      0.37      0.53      2545\n",
      "     neutral       0.68      1.00      0.81      6923\n",
      "    positive       0.93      0.54      0.69      4178\n",
      "\n",
      "    accuracy                           0.74     13646\n",
      "   macro avg       0.84      0.64      0.68     13646\n",
      "weighted avg       0.80      0.74      0.72     13646\n",
      "\n"
     ]
    },
    {
     "data": {
      "image/png": "[encoded data removed]",
      "text/plain": [
       "<Figure size 720x432 with 2 Axes>"
      ]
     },
     "metadata": {
      "needs_background": "light"
     },
     "output_type": "display_data"
    }
   ],
   "source": [
    "DecisionTree_accuracy = evaluate_metrics(DecisionTree_pred, y_test, \"DecisionTree Classifier\", DecisionTree_time)"
   ]
  },
  {
   "cell_type": "code",
   "execution_count": 31,
   "metadata": {},
   "outputs": [],
   "source": [
    "# Support Vector Machine Algorithm (Linear SVC classifier)\n",
    "\n",
    "svm_model = svm.SVC(kernel='linear')\n",
    "svm_start = time.time()\n",
    "svm_model.fit(x_train_vector, y_train)\n",
    "svm_stop = time.time()\n",
    "svm_time = (svm_stop - svm_start)\n",
    "svm_preds = svm_model.predict(x_test_vector)"
   ]
  },
  {
   "cell_type": "code",
   "execution_count": 32,
   "metadata": {},
   "outputs": [
    {
     "name": "stdout",
     "output_type": "stream",
     "text": [
      "Model Type :  Support Vector Machine\n",
      "\n",
      "Accuracy :  0.96\n",
      "\n",
      "Training Time :  404.94 s\n",
      "\n",
      "               precision    recall  f1-score   support\n",
      "\n",
      "    negative       0.94      0.89      0.91      2545\n",
      "     neutral       0.97      0.99      0.98      6923\n",
      "    positive       0.95      0.94      0.95      4178\n",
      "\n",
      "    accuracy                           0.96     13646\n",
      "   macro avg       0.95      0.94      0.95     13646\n",
      "weighted avg       0.96      0.96      0.96     13646\n",
      "\n"
     ]
    },
    {
     "data": {
      "image/png": "[encoded data removed]",
      "text/plain": [
       "<Figure size 720x432 with 2 Axes>"
      ]
     },
     "metadata": {
      "needs_background": "light"
     },
     "output_type": "display_data"
    }
   ],
   "source": [
    "svm_accuracy = evaluate_metrics(svm_preds, y_test, \"Support Vector Machine\", svm_time)"
   ]
  },
  {
   "cell_type": "code",
   "execution_count": 33,
   "metadata": {},
   "outputs": [],
   "source": [
    "# Multinomial Naive Bayes Algorithm\n",
    "\n",
    "MultinomialNB_model = MultinomialNB()\n",
    "MultinomialNB_start = time.time()\n",
    "MultinomialNB_model.fit(x_train_vector, y_train)\n",
    "MultinomialNB_stop = time.time()\n",
    "MultinomialNB_time = (MultinomialNB_stop - MultinomialNB_start)\n",
    "MultinomialNB_preds = MultinomialNB_model.predict(x_test_vector)"
   ]
  },
  {
   "cell_type": "code",
   "execution_count": 34,
   "metadata": {},
   "outputs": [
    {
     "name": "stdout",
     "output_type": "stream",
     "text": [
      "Model Type :  Multinomial NB Classifier\n",
      "\n",
      "Accuracy :  0.85\n",
      "\n",
      "Training Time :  0.14 s\n",
      "\n",
      "               precision    recall  f1-score   support\n",
      "\n",
      "    negative       0.90      0.64      0.75      2545\n",
      "     neutral       0.83      0.98      0.90      6923\n",
      "    positive       0.89      0.78      0.83      4178\n",
      "\n",
      "    accuracy                           0.85     13646\n",
      "   macro avg       0.87      0.80      0.83     13646\n",
      "weighted avg       0.86      0.85      0.85     13646\n",
      "\n"
     ]
    },
    {
     "data": {
      "image/png": "[encoded data removed]",
      "text/plain": [
       "<Figure size 720x432 with 2 Axes>"
      ]
     },
     "metadata": {
      "needs_background": "light"
     },
     "output_type": "display_data"
    }
   ],
   "source": [
    "MultinomialNB_accuracy = evaluate_metrics(MultinomialNB_preds, y_test, \"Multinomial NB Classifier\", MultinomialNB_time)"
   ]
  },
  {
   "cell_type": "code",
   "execution_count": 35,
   "metadata": {},
   "outputs": [
    {
     "data": {
      "image/png": "[encoded data removed]",
      "text/plain": [
       "<Figure size 432x288 with 1 Axes>"
      ]
     },
     "metadata": {
      "needs_background": "light"
     },
     "output_type": "display_data"
    }
   ],
   "source": [
    "# Graph view of Accuracy\n",
    "\n",
    "x = [\"SVM\",\"Logistic Regression\",\"Random Forest\", \"DecisionTree Classifier\", \"Multinomial NB\"]\n",
    "y = [svm_accuracy,logisticR_accuracy,RandomForest_accuracy,DecisionTree_accuracy, MultinomialNB_accuracy]\n",
    "\n",
    "plt.bar(x=x, height=y)\n",
    "# Graph Title\n",
    "plt.title(\"Algorithms Accuracy\")\n",
    "# Label of Y axis\n",
    "plt.ylabel(\"Accuracy\")\n",
    "plt.xticks(rotation=15)\n",
    "#Label of X axis\n",
    "plt.xlabel(\"Algorithm Model\")\n",
    "\n",
    "plt.show()"
   ]
  },
  {
   "cell_type": "code",
   "execution_count": null,
   "metadata": {},
   "outputs": [],
   "source": []
  },
  {
   "cell_type": "code",
   "execution_count": 36,
   "metadata": {},
   "outputs": [],
   "source": [
    "#save tfidf\n",
    "with open(\"tfidf3.pkl\", 'wb') as file:\n",
    "    pickle.dump(tfidf_vectorizer, file)"
   ]
  },
  {
   "cell_type": "code",
   "execution_count": 37,
   "metadata": {},
   "outputs": [],
   "source": [
    "#save model\n",
    "with open(\"model3.pkl\", 'wb') as file:\n",
    "    pickle.dump(svm_model, file)"
   ]
  },
  {
   "cell_type": "code",
   "execution_count": 38,
   "metadata": {},
   "outputs": [],
   "source": [
    "########### Load and get Predictions - Should goes to the backend \n",
    "\n",
    "with open(\"model3.pkl\", 'rb') as file:\n",
    "    model = pickle.load(file)\n",
    "    \n",
    "with open(\"tfidf3.pkl\", 'rb') as file:\n",
    "    tfidf = pickle.load(file)"
   ]
  },
  {
   "cell_type": "code",
   "execution_count": 39,
   "metadata": {},
   "outputs": [],
   "source": [
    "# predict --> Positive\n",
    "sentence = \"good service\""
   ]
  },
  {
   "cell_type": "code",
   "execution_count": 40,
   "metadata": {},
   "outputs": [],
   "source": [
    "token = tfidf_vectorizer.transform([sentence])"
   ]
  },
  {
   "cell_type": "code",
   "execution_count": 41,
   "metadata": {},
   "outputs": [
    {
     "data": {
      "text/plain": [
       "'positive'"
      ]
     },
     "execution_count": 41,
     "metadata": {},
     "output_type": "execute_result"
    }
   ],
   "source": [
    "model.predict(token)[0]"
   ]
  },
  {
   "cell_type": "code",
   "execution_count": 42,
   "metadata": {},
   "outputs": [],
   "source": [
    "# predict --> Neutral\n",
    "sentence = \"service\""
   ]
  },
  {
   "cell_type": "code",
   "execution_count": 43,
   "metadata": {},
   "outputs": [],
   "source": [
    "token = tfidf_vectorizer.transform([sentence])"
   ]
  },
  {
   "cell_type": "code",
   "execution_count": 44,
   "metadata": {},
   "outputs": [
    {
     "data": {
      "text/plain": [
       "'neutral'"
      ]
     },
     "execution_count": 44,
     "metadata": {},
     "output_type": "execute_result"
    }
   ],
   "source": [
    "model.predict(token)[0]"
   ]
  },
  {
   "cell_type": "code",
   "execution_count": 45,
   "metadata": {},
   "outputs": [],
   "source": [
    "# predict --> Neutral\n",
    "sentence = \"bit\""
   ]
  },
  {
   "cell_type": "code",
   "execution_count": 46,
   "metadata": {},
   "outputs": [],
   "source": [
    "token = tfidf_vectorizer.transform([sentence])"
   ]
  },
  {
   "cell_type": "code",
   "execution_count": 47,
   "metadata": {},
   "outputs": [
    {
     "data": {
      "text/plain": [
       "'neutral'"
      ]
     },
     "execution_count": 47,
     "metadata": {},
     "output_type": "execute_result"
    }
   ],
   "source": [
    "model.predict(token)[0]"
   ]
  },
  {
   "cell_type": "code",
   "execution_count": 48,
   "metadata": {},
   "outputs": [],
   "source": [
    "# predict --> Positive\n",
    "sentence = \"good\""
   ]
  },
  {
   "cell_type": "code",
   "execution_count": 49,
   "metadata": {},
   "outputs": [],
   "source": [
    "token = tfidf_vectorizer.transform([sentence])"
   ]
  },
  {
   "cell_type": "code",
   "execution_count": 50,
   "metadata": {},
   "outputs": [
    {
     "data": {
      "text/plain": [
       "'positive'"
      ]
     },
     "execution_count": 50,
     "metadata": {},
     "output_type": "execute_result"
    }
   ],
   "source": [
    "model.predict(token)[0]"
   ]
  },
  {
   "cell_type": "code",
   "execution_count": 51,
   "metadata": {},
   "outputs": [],
   "source": [
    "# predict --> Negative\n",
    "sentence = \"worst service ever\""
   ]
  },
  {
   "cell_type": "code",
   "execution_count": 52,
   "metadata": {},
   "outputs": [],
   "source": [
    "token = tfidf_vectorizer.transform([sentence])"
   ]
  },
  {
   "cell_type": "code",
   "execution_count": 53,
   "metadata": {},
   "outputs": [
    {
     "data": {
      "text/plain": [
       "'negative'"
      ]
     },
     "execution_count": 53,
     "metadata": {},
     "output_type": "execute_result"
    }
   ],
   "source": [
    "model.predict(token)[0]"
   ]
  },
  {
   "cell_type": "code",
   "execution_count": 54,
   "metadata": {},
   "outputs": [],
   "source": [
    "# predict --> Neutral\n",
    "sentence = \"hi\""
   ]
  },
  {
   "cell_type": "code",
   "execution_count": 55,
   "metadata": {},
   "outputs": [],
   "source": [
    "token = tfidf_vectorizer.transform([sentence])"
   ]
  },
  {
   "cell_type": "code",
   "execution_count": 56,
   "metadata": {},
   "outputs": [
    {
     "data": {
      "text/plain": [
       "'neutral'"
      ]
     },
     "execution_count": 56,
     "metadata": {},
     "output_type": "execute_result"
    }
   ],
   "source": [
    "model.predict(token)[0]"
   ]
  },
  {
   "cell_type": "code",
   "execution_count": 57,
   "metadata": {},
   "outputs": [],
   "source": [
    "# predict --> Positive\n",
    "sentence = \"telecommunication gives a good super service to their customers\""
   ]
  },
  {
   "cell_type": "code",
   "execution_count": 58,
   "metadata": {},
   "outputs": [],
   "source": [
    "token = tfidf_vectorizer.transform([sentence])"
   ]
  },
  {
   "cell_type": "code",
   "execution_count": 59,
   "metadata": {},
   "outputs": [
    {
     "data": {
      "text/plain": [
       "'positive'"
      ]
     },
     "execution_count": 59,
     "metadata": {},
     "output_type": "execute_result"
    }
   ],
   "source": [
    "model.predict(token)[0]"
   ]
  },
  {
   "cell_type": "code",
   "execution_count": null,
   "metadata": {},
   "outputs": [],
   "source": []
  }
 ],
 "metadata": {
  "kernelspec": {
   "display_name": "Python 3",
   "language": "python",
   "name": "python3"
  },
  "language_info": {
   "codemirror_mode": {
    "name": "ipython",
    "version": 3
   },
   "file_extension": ".py",
   "mimetype": "text/x-python",
   "name": "python",
   "nbconvert_exporter": "python",
   "pygments_lexer": "ipython3",
   "version": "3.8.5"
  }
 },
 "nbformat": 4,
 "nbformat_minor": 4
}
